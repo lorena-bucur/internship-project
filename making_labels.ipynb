{
 "cells": [
  {
   "cell_type": "markdown",
   "metadata": {},
   "source": [
    "# This code was used to create the labels"
   ]
  },
  {
   "cell_type": "markdown",
   "metadata": {},
   "source": [
    "Here we are going to import all of the libraries we need for this part. Here is a short description on each one:\n",
    "\n",
    "os: a library used for accessing/manipulating files\n",
    "\n",
    "pandas: used to manipulate data tables\n",
    "\n",
    "numpy: scientific computing\n",
    "\n",
    "matplotlib: used for making plots\n",
    "\n",
    "seaborn: another plotting library\n",
    "\n",
    "plotnine: plotnine is an implementation of a grammar of graphics in Python, it is useful to make plots\n",
    "\n",
    "missingno: python library for the exploratory visualization of missing data."
   ]
  },
  {
   "cell_type": "code",
   "execution_count": 1,
   "metadata": {},
   "outputs": [],
   "source": [
    "import os\n",
    "import pandas as pd\n",
    "import numpy as np\n",
    "import seaborn as sns\n",
    "import matplotlib.pyplot as plt\n",
    "import plotnine as p9\n",
    "# pip install missingno in the terminal if you do not have this module yet\n",
    "import missingno as msno"
   ]
  },
  {
   "cell_type": "code",
   "execution_count": 2,
   "metadata": {},
   "outputs": [
    {
     "name": "stderr",
     "output_type": "stream",
     "text": [
      "C:\\Users\\kgqr995\\AppData\\Local\\Temp\\ipykernel_11352\\2592142945.py:1: DtypeWarning: Columns (2,7,8,17,25,26,27,30,31,34,36,37,40) have mixed types. Specify dtype option on import or set low_memory=False.\n",
      "C:\\Users\\kgqr995\\AppData\\Local\\Temp\\ipykernel_11352\\2592142945.py:3: SettingWithCopyWarning: \n",
      "A value is trying to be set on a copy of a slice from a DataFrame\n",
      "\n",
      "See the caveats in the documentation: https://pandas.pydata.org/pandas-docs/stable/user_guide/indexing.html#returning-a-view-versus-a-copy\n"
     ]
    }
   ],
   "source": [
    "df = pd.read_csv('Sequences.csv')\n",
    "dups = (df['target sequence'] == df['target sequence 2'])\n",
    "df['target sequence 2'].iloc[dups]= np.nan\n"
   ]
  },
  {
   "cell_type": "code",
   "execution_count": 3,
   "metadata": {},
   "outputs": [
    {
     "data": {
      "text/plain": [
       "0                                                      NaN\n",
       "1                                                      NaN\n",
       "2                                                      NaN\n",
       "3                                                      NaN\n",
       "4                                                      NaN\n",
       "                               ...                        \n",
       "69966    MSEKQMKEAFVSNLNGTTVLEITQGLCFPAFCILCRGFLIIFSQYL...\n",
       "69967    MWPQDPSRKEVLRFAVSCRILTLMLQALFNAIIPDHHAEAFSPPRL...\n",
       "69968    MWPQDPSRKEVLRFAVSCRILTLMLQALFNAIIPDHHAEAFSPPRL...\n",
       "69969    MGLLSDPVRRRALARLVLRLNAPLCVLSYVAGIAWFLALVFPPLTQ...\n",
       "69970    MVENSPSPLPERAIYGFVLFLSSQFGFILYLVWAFIPESWLNSLGL...\n",
       "Name: target sequence 2, Length: 69971, dtype: object"
      ]
     },
     "execution_count": 3,
     "metadata": {},
     "output_type": "execute_result"
    }
   ],
   "source": [
    "df['target sequence 2']"
   ]
  },
  {
   "cell_type": "code",
   "execution_count": 4,
   "metadata": {},
   "outputs": [],
   "source": [
    "df['host_info'] = df['host_info'].replace(['e. coli (bl21)', 'e. coli (artic)'], ['e. coli', 'e. coli'])"
   ]
  },
  {
   "cell_type": "code",
   "execution_count": 5,
   "metadata": {},
   "outputs": [],
   "source": [
    "# Select only the cases where host_info == e.coli and source_organism == Homo sapiens\n",
    "df_new = df.loc[(df['host_info'] == 'e. coli') & (df['source_organism'] == 'Homo sapiens')]"
   ]
  },
  {
   "cell_type": "code",
   "execution_count": 88,
   "metadata": {},
   "outputs": [],
   "source": [
    "# make a new CSV with only thse cases mentioned above\n",
    "df_new.to_csv('Ecoli.csv', index = False)"
   ]
  },
  {
   "cell_type": "code",
   "execution_count": 6,
   "metadata": {},
   "outputs": [
    {
     "name": "stderr",
     "output_type": "stream",
     "text": [
      "C:\\Users\\kgqr995\\AppData\\Local\\Temp\\ipykernel_11352\\1978880895.py:1: DtypeWarning: Columns (8,17,22,23,24,25,26,27,34,36,40) have mixed types. Specify dtype option on import or set low_memory=False.\n"
     ]
    }
   ],
   "source": [
    "# read the DataFrame\n",
    "df = pd.read_csv('Ecoli.csv')"
   ]
  },
  {
   "cell_type": "markdown",
   "metadata": {},
   "source": [
    "MAKING LABELS"
   ]
  },
  {
   "cell_type": "code",
   "execution_count": 7,
   "metadata": {},
   "outputs": [],
   "source": [
    "# we delete the cases where the last stage of the construct is only selected or cloned or test target as they are not related with express/not expressed\n",
    "df.drop(df.loc[df['trial_status']=='cloned'].index, inplace=True)\n",
    "df.drop(df.loc[df['trial_status']=='selected'].index, inplace=True)\n",
    "df.drop(df.loc[df['trial_status']=='test target'].index, inplace=True)\n"
   ]
  },
  {
   "cell_type": "code",
   "execution_count": 25,
   "metadata": {},
   "outputs": [
    {
     "data": {
      "text/plain": [
       "array(['purification failed', nan, 'other', 'crystallization failed',\n",
       "       'expression failed', 'biophysical analysis failed',\n",
       "       'mass spec failed', 'PDB duplicate found', 'poor NMR'],\n",
       "      dtype=object)"
      ]
     },
     "execution_count": 25,
     "metadata": {},
     "output_type": "execute_result"
    }
   ],
   "source": [
    "# check the stop reasons\n",
    "df['trial_stopdes'].unique()"
   ]
  },
  {
   "cell_type": "markdown",
   "metadata": {},
   "source": [
    "Label as expressed"
   ]
  },
  {
   "cell_type": "code",
   "execution_count": 8,
   "metadata": {},
   "outputs": [],
   "source": [
    "#Replace multiple values with one new value for an individual DataFrame column:\n",
    "# All these words represent the fact that our construct was expressed\n",
    "df['trial_status'] = df['trial_status'].replace(['crystallized', 'purified', 'in PDB', 'expressed', 'HSQC satisfactory', 'soluble', 'crystal structure', 'diffraction-quality crystals', 'NMR structure', 'mass spec verified', 'membrane protein solubilized', 'phasing diffraction-data', 'diffraction', 'EM images', 'biological assay', 'EM fitted model', 'NMR assigned', 'native diffraction-data', 'biophysical analysis', 'NMR backbone resonances assigned'], 'expressed')"
   ]
  },
  {
   "cell_type": "code",
   "execution_count": 9,
   "metadata": {},
   "outputs": [
    {
     "name": "stderr",
     "output_type": "stream",
     "text": [
      "C:\\Users\\kgqr995\\AppData\\Local\\Temp\\ipykernel_11352\\1267666390.py:7: SettingWithCopyWarning: \n",
      "A value is trying to be set on a copy of a slice from a DataFrame\n",
      "\n",
      "See the caveats in the documentation: https://pandas.pydata.org/pandas-docs/stable/user_guide/indexing.html#returning-a-view-versus-a-copy\n"
     ]
    }
   ],
   "source": [
    "# In case the last step of the construct is work stopped, and we do not have the expression protocol available, and the reason for working stop is the lab found a PDB already, that means our construct was succesfully expressed\n",
    "df['expression'] = df['expression'].fillna('not available')\n",
    "vector = ((df['trial_status'] == 'work stopped') & (df['expression'] == 'not available') & (df['trial_stopdes'] == 'PDB duplicate found'))\n",
    "# df['trial_status'] = df_new['trial_status'].replace(['work stopped'], 'expressed')\n",
    "\n",
    "# df_new.head(10)\n",
    "df['trial_status'][vector] = 'expressed'"
   ]
  },
  {
   "cell_type": "code",
   "execution_count": 10,
   "metadata": {},
   "outputs": [
    {
     "name": "stderr",
     "output_type": "stream",
     "text": [
      "C:\\Users\\kgqr995\\AppData\\Local\\Temp\\ipykernel_11352\\2037040154.py:6: SettingWithCopyWarning: \n",
      "A value is trying to be set on a copy of a slice from a DataFrame\n",
      "\n",
      "See the caveats in the documentation: https://pandas.pydata.org/pandas-docs/stable/user_guide/indexing.html#returning-a-view-versus-a-copy\n"
     ]
    }
   ],
   "source": [
    "# work stopped == putification failed, then label the construct as expressed\n",
    "vector2 = ((df['trial_status'] == 'work stopped') & (df['expression'] != 'not available') & (df['trial_stopdes'] == 'purification failed'))\n",
    "# df['trial_status'] = df_new['trial_status'].replace(['work stopped'], 'expressed')\n",
    "\n",
    "# df_new.head(10)\n",
    "df['trial_status'][vector2] = 'expressed'"
   ]
  },
  {
   "cell_type": "code",
   "execution_count": 11,
   "metadata": {},
   "outputs": [
    {
     "name": "stderr",
     "output_type": "stream",
     "text": [
      "C:\\Users\\kgqr995\\AppData\\Local\\Temp\\ipykernel_11352\\1103088213.py:5: SettingWithCopyWarning: \n",
      "A value is trying to be set on a copy of a slice from a DataFrame\n",
      "\n",
      "See the caveats in the documentation: https://pandas.pydata.org/pandas-docs/stable/user_guide/indexing.html#returning-a-view-versus-a-copy\n"
     ]
    }
   ],
   "source": [
    "# if crystallization failed, label the construct as expressed\n",
    "vector3 = ((df['trial_status'] == 'work stopped') & (df['expression'] != 'not available') & (df['trial_stopdes'] == 'crystallization failed'))\n",
    "# df['trial_status'] = df_new['trial_status'].replace(['work stopped'], 'expressed')\n",
    "\n",
    "df['trial_status'][vector3] = 'expressed'"
   ]
  },
  {
   "cell_type": "code",
   "execution_count": 12,
   "metadata": {},
   "outputs": [
    {
     "name": "stderr",
     "output_type": "stream",
     "text": [
      "C:\\Users\\kgqr995\\AppData\\Local\\Temp\\ipykernel_11352\\4078114049.py:4: SettingWithCopyWarning: \n",
      "A value is trying to be set on a copy of a slice from a DataFrame\n",
      "\n",
      "See the caveats in the documentation: https://pandas.pydata.org/pandas-docs/stable/user_guide/indexing.html#returning-a-view-versus-a-copy\n"
     ]
    }
   ],
   "source": [
    "vector4 = ((df['trial_status'] == 'work stopped') & (df['expression'] != 'not available') & (df['trial_stopdes'] == 'biophysical analysis failed'))\n",
    "# df['trial_status'] = df_new['trial_status'].replace(['work stopped'], 'expressed')\n",
    "\n",
    "df['trial_status'][vector4] = 'expressed'"
   ]
  },
  {
   "cell_type": "code",
   "execution_count": 13,
   "metadata": {},
   "outputs": [
    {
     "name": "stderr",
     "output_type": "stream",
     "text": [
      "C:\\Users\\kgqr995\\AppData\\Local\\Temp\\ipykernel_11352\\2739996376.py:4: SettingWithCopyWarning: \n",
      "A value is trying to be set on a copy of a slice from a DataFrame\n",
      "\n",
      "See the caveats in the documentation: https://pandas.pydata.org/pandas-docs/stable/user_guide/indexing.html#returning-a-view-versus-a-copy\n"
     ]
    }
   ],
   "source": [
    "\n",
    "vector5 = ((df['trial_status'] == 'work stopped') & (df['expression'] != 'not available') & (df['trial_stopdes'] == 'mass spec failed'))\n",
    "# df['trial_status'] = df_new['trial_status'].replace(['work stopped'], 'expressed')\n",
    "\n",
    "df['trial_status'][vector5] = 'expressed'"
   ]
  },
  {
   "cell_type": "code",
   "execution_count": 14,
   "metadata": {},
   "outputs": [
    {
     "name": "stderr",
     "output_type": "stream",
     "text": [
      "C:\\Users\\kgqr995\\AppData\\Local\\Temp\\ipykernel_11352\\452464754.py:4: SettingWithCopyWarning: \n",
      "A value is trying to be set on a copy of a slice from a DataFrame\n",
      "\n",
      "See the caveats in the documentation: https://pandas.pydata.org/pandas-docs/stable/user_guide/indexing.html#returning-a-view-versus-a-copy\n"
     ]
    }
   ],
   "source": [
    "# if poor NMR, then label as expressed\n",
    "vector6 = ((df['trial_status'] == 'work stopped') & (df['expression'] != 'not available') & (df['trial_stopdes'] == 'poor NMR'))\n",
    "\n",
    "df['trial_status'][vector6] = 'expressed'"
   ]
  },
  {
   "cell_type": "markdown",
   "metadata": {},
   "source": [
    "Label as not expressed"
   ]
  },
  {
   "cell_type": "code",
   "execution_count": 15,
   "metadata": {},
   "outputs": [
    {
     "name": "stderr",
     "output_type": "stream",
     "text": [
      "C:\\Users\\kgqr995\\AppData\\Local\\Temp\\ipykernel_11352\\603233571.py:3: SettingWithCopyWarning: \n",
      "A value is trying to be set on a copy of a slice from a DataFrame\n",
      "\n",
      "See the caveats in the documentation: https://pandas.pydata.org/pandas-docs/stable/user_guide/indexing.html#returning-a-view-versus-a-copy\n"
     ]
    }
   ],
   "source": [
    "\n",
    "vector7 = ((df['trial_status'] == 'work stopped')  & (df['trial_stopdes'] == 'expression failed'))\n",
    "\n",
    "df['trial_status'][vector7] = 'not expressed'"
   ]
  },
  {
   "cell_type": "markdown",
   "metadata": {},
   "source": [
    "Other cases:"
   ]
  },
  {
   "cell_type": "code",
   "execution_count": 16,
   "metadata": {},
   "outputs": [],
   "source": [
    "# if the work stopped because clonning failed we cannot use it in our research as the expression was not tested\n",
    "#cloning failed\n",
    "\n",
    "df.drop(df.loc[df['trial_stopdes']== 'cloning failed'].index, inplace=True)"
   ]
  },
  {
   "cell_type": "code",
   "execution_count": 17,
   "metadata": {},
   "outputs": [],
   "source": [
    "# drop the cases when sequencing fails\n",
    "df.drop(df.loc[df['trial_stopdes']== 'sequencing failed'].index, inplace=True)"
   ]
  },
  {
   "cell_type": "code",
   "execution_count": 18,
   "metadata": {},
   "outputs": [
    {
     "data": {
      "text/plain": [
       "expressed            37201\n",
       "work stopped          3686\n",
       "not expressed         1505\n",
       "expression tested      156\n",
       "Name: trial_status, dtype: int64"
      ]
     },
     "execution_count": 18,
     "metadata": {},
     "output_type": "execute_result"
    }
   ],
   "source": [
    "df['trial_status'].value_counts()"
   ]
  },
  {
   "cell_type": "code",
   "execution_count": 104,
   "metadata": {},
   "outputs": [],
   "source": [
    "#df.to_csv('Ecoli3.csv', index = False)"
   ]
  },
  {
   "cell_type": "code",
   "execution_count": 19,
   "metadata": {},
   "outputs": [
    {
     "data": {
      "text/plain": [
       "array(['expressed', 'work stopped', 'expression tested', 'not expressed'],\n",
       "      dtype=object)"
      ]
     },
     "execution_count": 19,
     "metadata": {},
     "output_type": "execute_result"
    }
   ],
   "source": [
    "df['trial_status'].unique()"
   ]
  },
  {
   "cell_type": "code",
   "execution_count": 20,
   "metadata": {},
   "outputs": [
    {
     "data": {
      "text/plain": [
       "array(['purification failed', nan, 'other', 'crystallization failed',\n",
       "       'expression failed', 'biophysical analysis failed',\n",
       "       'mass spec failed', 'PDB duplicate found', 'poor NMR'],\n",
       "      dtype=object)"
      ]
     },
     "execution_count": 20,
     "metadata": {},
     "output_type": "execute_result"
    }
   ],
   "source": [
    "df['trial_stopdes'].unique()"
   ]
  },
  {
   "cell_type": "code",
   "execution_count": 14,
   "metadata": {},
   "outputs": [
    {
     "data": {
      "text/html": [
       "<div>\n",
       "<style scoped>\n",
       "    .dataframe tbody tr th:only-of-type {\n",
       "        vertical-align: middle;\n",
       "    }\n",
       "\n",
       "    .dataframe tbody tr th {\n",
       "        vertical-align: top;\n",
       "    }\n",
       "\n",
       "    .dataframe thead th {\n",
       "        text-align: right;\n",
       "    }\n",
       "</style>\n",
       "<table border=\"1\" class=\"dataframe\">\n",
       "  <thead>\n",
       "    <tr style=\"text-align: right;\">\n",
       "      <th></th>\n",
       "      <th>target_id</th>\n",
       "      <th>trial_id</th>\n",
       "      <th>protein_name</th>\n",
       "      <th>lab</th>\n",
       "      <th>target_status</th>\n",
       "      <th>source_organism</th>\n",
       "      <th>trial_status</th>\n",
       "      <th>trial_stopdes</th>\n",
       "      <th>protocol_express_level</th>\n",
       "      <th>trial_expression_level</th>\n",
       "      <th>...</th>\n",
       "      <th>UNIPROT</th>\n",
       "      <th>NCBITAXONOMY</th>\n",
       "      <th>None</th>\n",
       "      <th>SWISSPROT</th>\n",
       "      <th>target name</th>\n",
       "      <th>target name 2</th>\n",
       "      <th>trial sequence</th>\n",
       "      <th>trial sequence 2</th>\n",
       "      <th>target sequence</th>\n",
       "      <th>target sequence 2</th>\n",
       "    </tr>\n",
       "  </thead>\n",
       "  <tbody>\n",
       "    <tr>\n",
       "      <th>0</th>\n",
       "      <td>MPP-GO.102091</td>\n",
       "      <td>1</td>\n",
       "      <td>hCPT1a_Ndelta165</td>\n",
       "      <td>Transmembrane Protein Center</td>\n",
       "      <td>expressed</td>\n",
       "      <td>Homo sapiens</td>\n",
       "      <td>expressed</td>\n",
       "      <td>NaN</td>\n",
       "      <td>NaN</td>\n",
       "      <td>not available</td>\n",
       "      <td>...</td>\n",
       "      <td>NaN</td>\n",
       "      <td>9606.0</td>\n",
       "      <td>NaN</td>\n",
       "      <td>P50416</td>\n",
       "      <td>NaN</td>\n",
       "      <td>NaN</td>\n",
       "      <td>NaN</td>\n",
       "      <td>NaN</td>\n",
       "      <td>NaN</td>\n",
       "      <td>NaN</td>\n",
       "    </tr>\n",
       "    <tr>\n",
       "      <th>1</th>\n",
       "      <td>MPP-GO.102091</td>\n",
       "      <td>2</td>\n",
       "      <td>hCPT1a_Ndelta165</td>\n",
       "      <td>Transmembrane Protein Center</td>\n",
       "      <td>expressed</td>\n",
       "      <td>Homo sapiens</td>\n",
       "      <td>expressed</td>\n",
       "      <td>NaN</td>\n",
       "      <td>NaN</td>\n",
       "      <td>not available</td>\n",
       "      <td>...</td>\n",
       "      <td>NaN</td>\n",
       "      <td>9606.0</td>\n",
       "      <td>NaN</td>\n",
       "      <td>P50416</td>\n",
       "      <td>NaN</td>\n",
       "      <td>NaN</td>\n",
       "      <td>NaN</td>\n",
       "      <td>NaN</td>\n",
       "      <td>NaN</td>\n",
       "      <td>NaN</td>\n",
       "    </tr>\n",
       "    <tr>\n",
       "      <th>2</th>\n",
       "      <td>MPP-GO.102091</td>\n",
       "      <td>3</td>\n",
       "      <td>hCPT1a_Ndelta165</td>\n",
       "      <td>Transmembrane Protein Center</td>\n",
       "      <td>expressed</td>\n",
       "      <td>Homo sapiens</td>\n",
       "      <td>expressed</td>\n",
       "      <td>NaN</td>\n",
       "      <td>NaN</td>\n",
       "      <td>not available</td>\n",
       "      <td>...</td>\n",
       "      <td>NaN</td>\n",
       "      <td>9606.0</td>\n",
       "      <td>NaN</td>\n",
       "      <td>P50416</td>\n",
       "      <td>NaN</td>\n",
       "      <td>NaN</td>\n",
       "      <td>NaN</td>\n",
       "      <td>NaN</td>\n",
       "      <td>NaN</td>\n",
       "      <td>NaN</td>\n",
       "    </tr>\n",
       "    <tr>\n",
       "      <th>3</th>\n",
       "      <td>MPP-GO.102091</td>\n",
       "      <td>4</td>\n",
       "      <td>hCPT1a_Ndelta165</td>\n",
       "      <td>Transmembrane Protein Center</td>\n",
       "      <td>expressed</td>\n",
       "      <td>Homo sapiens</td>\n",
       "      <td>expressed</td>\n",
       "      <td>NaN</td>\n",
       "      <td>NaN</td>\n",
       "      <td>not available</td>\n",
       "      <td>...</td>\n",
       "      <td>NaN</td>\n",
       "      <td>9606.0</td>\n",
       "      <td>NaN</td>\n",
       "      <td>P50416</td>\n",
       "      <td>NaN</td>\n",
       "      <td>NaN</td>\n",
       "      <td>NaN</td>\n",
       "      <td>NaN</td>\n",
       "      <td>NaN</td>\n",
       "      <td>NaN</td>\n",
       "    </tr>\n",
       "    <tr>\n",
       "      <th>4</th>\n",
       "      <td>MPP-GO.102091</td>\n",
       "      <td>5</td>\n",
       "      <td>hCPT1a_Ndelta165</td>\n",
       "      <td>Transmembrane Protein Center</td>\n",
       "      <td>expressed</td>\n",
       "      <td>Homo sapiens</td>\n",
       "      <td>expressed</td>\n",
       "      <td>NaN</td>\n",
       "      <td>NaN</td>\n",
       "      <td>not available</td>\n",
       "      <td>...</td>\n",
       "      <td>NaN</td>\n",
       "      <td>9606.0</td>\n",
       "      <td>NaN</td>\n",
       "      <td>P50416</td>\n",
       "      <td>NaN</td>\n",
       "      <td>NaN</td>\n",
       "      <td>NaN</td>\n",
       "      <td>NaN</td>\n",
       "      <td>NaN</td>\n",
       "      <td>NaN</td>\n",
       "    </tr>\n",
       "    <tr>\n",
       "      <th>...</th>\n",
       "      <td>...</td>\n",
       "      <td>...</td>\n",
       "      <td>...</td>\n",
       "      <td>...</td>\n",
       "      <td>...</td>\n",
       "      <td>...</td>\n",
       "      <td>...</td>\n",
       "      <td>...</td>\n",
       "      <td>...</td>\n",
       "      <td>...</td>\n",
       "      <td>...</td>\n",
       "      <td>...</td>\n",
       "      <td>...</td>\n",
       "      <td>...</td>\n",
       "      <td>...</td>\n",
       "      <td>...</td>\n",
       "      <td>...</td>\n",
       "      <td>...</td>\n",
       "      <td>...</td>\n",
       "      <td>...</td>\n",
       "      <td>...</td>\n",
       "    </tr>\n",
       "    <tr>\n",
       "      <th>69966</th>\n",
       "      <td>NYCOMPS-GO.9393</td>\n",
       "      <td>2</td>\n",
       "      <td>NaN</td>\n",
       "      <td>NYCOMPS</td>\n",
       "      <td>work stopped</td>\n",
       "      <td>Homo sapiens</td>\n",
       "      <td>work stopped</td>\n",
       "      <td>other</td>\n",
       "      <td>NaN</td>\n",
       "      <td>not available</td>\n",
       "      <td>...</td>\n",
       "      <td>NaN</td>\n",
       "      <td>9606.0</td>\n",
       "      <td>NaN</td>\n",
       "      <td>NaN</td>\n",
       "      <td>unk-BTH-72</td>\n",
       "      <td>unk-BTH-72</td>\n",
       "      <td>NaN</td>\n",
       "      <td>ATGTCTGAAAAGCAGATGAAGGAAGCTTTTGTCAGTAACCTCAATG...</td>\n",
       "      <td>ATGTCTGAAAAGCAGATGAAGGAAGCTTTTGTCAGTAACCTCAATG...</td>\n",
       "      <td>MSEKQMKEAFVSNLNGTTVLEITQGLCFPAFCILCRGFLIIFSQYL...</td>\n",
       "    </tr>\n",
       "    <tr>\n",
       "      <th>69967</th>\n",
       "      <td>NYCOMPS-GO.9395</td>\n",
       "      <td>1</td>\n",
       "      <td>NaN</td>\n",
       "      <td>NYCOMPS</td>\n",
       "      <td>work stopped</td>\n",
       "      <td>Homo sapiens</td>\n",
       "      <td>work stopped</td>\n",
       "      <td>other</td>\n",
       "      <td>NaN</td>\n",
       "      <td>not available</td>\n",
       "      <td>...</td>\n",
       "      <td>NaN</td>\n",
       "      <td>9606.0</td>\n",
       "      <td>NaN</td>\n",
       "      <td>NaN</td>\n",
       "      <td>unk-BTH-74</td>\n",
       "      <td>unk-BTH-74</td>\n",
       "      <td>NaN</td>\n",
       "      <td>ATGTGGCCCCAGGACCCATCCCGGAAGGAGGTGCTGAGGTTTGCAG...</td>\n",
       "      <td>ATGTGGCCCCAGGACCCATCCCGGAAGGAGGTGCTGAGGTTTGCAG...</td>\n",
       "      <td>MWPQDPSRKEVLRFAVSCRILTLMLQALFNAIIPDHHAEAFSPPRL...</td>\n",
       "    </tr>\n",
       "    <tr>\n",
       "      <th>69968</th>\n",
       "      <td>NYCOMPS-GO.9395</td>\n",
       "      <td>2</td>\n",
       "      <td>NaN</td>\n",
       "      <td>NYCOMPS</td>\n",
       "      <td>work stopped</td>\n",
       "      <td>Homo sapiens</td>\n",
       "      <td>work stopped</td>\n",
       "      <td>other</td>\n",
       "      <td>NaN</td>\n",
       "      <td>not available</td>\n",
       "      <td>...</td>\n",
       "      <td>NaN</td>\n",
       "      <td>9606.0</td>\n",
       "      <td>NaN</td>\n",
       "      <td>NaN</td>\n",
       "      <td>unk-BTH-74</td>\n",
       "      <td>unk-BTH-74</td>\n",
       "      <td>NaN</td>\n",
       "      <td>ATGTGGCCCCAGGACCCATCCCGGAAGGAGGTGCTGAGGTTTGCAG...</td>\n",
       "      <td>ATGTGGCCCCAGGACCCATCCCGGAAGGAGGTGCTGAGGTTTGCAG...</td>\n",
       "      <td>MWPQDPSRKEVLRFAVSCRILTLMLQALFNAIIPDHHAEAFSPPRL...</td>\n",
       "    </tr>\n",
       "    <tr>\n",
       "      <th>69969</th>\n",
       "      <td>NYCOMPS-GO.9397</td>\n",
       "      <td>1</td>\n",
       "      <td>NaN</td>\n",
       "      <td>NYCOMPS</td>\n",
       "      <td>cloned</td>\n",
       "      <td>Homo sapiens</td>\n",
       "      <td>work stopped</td>\n",
       "      <td>other</td>\n",
       "      <td>NaN</td>\n",
       "      <td>not available</td>\n",
       "      <td>...</td>\n",
       "      <td>NaN</td>\n",
       "      <td>9606.0</td>\n",
       "      <td>NaN</td>\n",
       "      <td>NaN</td>\n",
       "      <td>unk-BTH-76</td>\n",
       "      <td>unk-BTH-76</td>\n",
       "      <td>NaN</td>\n",
       "      <td>ATGGGCCTCCTGTCGGACCCGGTTCGCCGGCGCGCGCTCGCCCGCC...</td>\n",
       "      <td>ATGGGCCTCCTGTCGGACCCGGTTCGCCGGCGCGCGCTCGCCCGCC...</td>\n",
       "      <td>MGLLSDPVRRRALARLVLRLNAPLCVLSYVAGIAWFLALVFPPLTQ...</td>\n",
       "    </tr>\n",
       "    <tr>\n",
       "      <th>69970</th>\n",
       "      <td>NYCOMPS-GO.9408</td>\n",
       "      <td>1</td>\n",
       "      <td>NaN</td>\n",
       "      <td>NYCOMPS</td>\n",
       "      <td>cloned</td>\n",
       "      <td>Homo sapiens</td>\n",
       "      <td>work stopped</td>\n",
       "      <td>other</td>\n",
       "      <td>NaN</td>\n",
       "      <td>not available</td>\n",
       "      <td>...</td>\n",
       "      <td>NaN</td>\n",
       "      <td>9606.0</td>\n",
       "      <td>NaN</td>\n",
       "      <td>NaN</td>\n",
       "      <td>unk-BTH-87</td>\n",
       "      <td>unk-BTH-87</td>\n",
       "      <td>NaN</td>\n",
       "      <td>ATGGTGGAAAATTCACCGTCGCCATTGCCAGAAAGAGCGATTTATG...</td>\n",
       "      <td>ATGGTGGAAAATTCACCGTCGCCATTGCCAGAAAGAGCGATTTATG...</td>\n",
       "      <td>MVENSPSPLPERAIYGFVLFLSSQFGFILYLVWAFIPESWLNSLGL...</td>\n",
       "    </tr>\n",
       "  </tbody>\n",
       "</table>\n",
       "<p>69971 rows × 41 columns</p>\n",
       "</div>"
      ],
      "text/plain": [
       "             target_id  trial_id      protein_name  \\\n",
       "0        MPP-GO.102091         1  hCPT1a_Ndelta165   \n",
       "1        MPP-GO.102091         2  hCPT1a_Ndelta165   \n",
       "2        MPP-GO.102091         3  hCPT1a_Ndelta165   \n",
       "3        MPP-GO.102091         4  hCPT1a_Ndelta165   \n",
       "4        MPP-GO.102091         5  hCPT1a_Ndelta165   \n",
       "...                ...       ...               ...   \n",
       "69966  NYCOMPS-GO.9393         2               NaN   \n",
       "69967  NYCOMPS-GO.9395         1               NaN   \n",
       "69968  NYCOMPS-GO.9395         2               NaN   \n",
       "69969  NYCOMPS-GO.9397         1               NaN   \n",
       "69970  NYCOMPS-GO.9408         1               NaN   \n",
       "\n",
       "                                lab target_status source_organism  \\\n",
       "0      Transmembrane Protein Center     expressed    Homo sapiens   \n",
       "1      Transmembrane Protein Center     expressed    Homo sapiens   \n",
       "2      Transmembrane Protein Center     expressed    Homo sapiens   \n",
       "3      Transmembrane Protein Center     expressed    Homo sapiens   \n",
       "4      Transmembrane Protein Center     expressed    Homo sapiens   \n",
       "...                             ...           ...             ...   \n",
       "69966                       NYCOMPS  work stopped    Homo sapiens   \n",
       "69967                       NYCOMPS  work stopped    Homo sapiens   \n",
       "69968                       NYCOMPS  work stopped    Homo sapiens   \n",
       "69969                       NYCOMPS        cloned    Homo sapiens   \n",
       "69970                       NYCOMPS        cloned    Homo sapiens   \n",
       "\n",
       "       trial_status trial_stopdes protocol_express_level  \\\n",
       "0         expressed           NaN                    NaN   \n",
       "1         expressed           NaN                    NaN   \n",
       "2         expressed           NaN                    NaN   \n",
       "3         expressed           NaN                    NaN   \n",
       "4         expressed           NaN                    NaN   \n",
       "...             ...           ...                    ...   \n",
       "69966  work stopped         other                    NaN   \n",
       "69967  work stopped         other                    NaN   \n",
       "69968  work stopped         other                    NaN   \n",
       "69969  work stopped         other                    NaN   \n",
       "69970  work stopped         other                    NaN   \n",
       "\n",
       "      trial_expression_level  ... UNIPROT NCBITAXONOMY None SWISSPROT  \\\n",
       "0              not available  ...     NaN       9606.0  NaN    P50416   \n",
       "1              not available  ...     NaN       9606.0  NaN    P50416   \n",
       "2              not available  ...     NaN       9606.0  NaN    P50416   \n",
       "3              not available  ...     NaN       9606.0  NaN    P50416   \n",
       "4              not available  ...     NaN       9606.0  NaN    P50416   \n",
       "...                      ...  ...     ...          ...  ...       ...   \n",
       "69966          not available  ...     NaN       9606.0  NaN       NaN   \n",
       "69967          not available  ...     NaN       9606.0  NaN       NaN   \n",
       "69968          not available  ...     NaN       9606.0  NaN       NaN   \n",
       "69969          not available  ...     NaN       9606.0  NaN       NaN   \n",
       "69970          not available  ...     NaN       9606.0  NaN       NaN   \n",
       "\n",
       "       target name target name 2 trial sequence  \\\n",
       "0              NaN           NaN            NaN   \n",
       "1              NaN           NaN            NaN   \n",
       "2              NaN           NaN            NaN   \n",
       "3              NaN           NaN            NaN   \n",
       "4              NaN           NaN            NaN   \n",
       "...            ...           ...            ...   \n",
       "69966   unk-BTH-72    unk-BTH-72            NaN   \n",
       "69967   unk-BTH-74    unk-BTH-74            NaN   \n",
       "69968   unk-BTH-74    unk-BTH-74            NaN   \n",
       "69969   unk-BTH-76    unk-BTH-76            NaN   \n",
       "69970   unk-BTH-87    unk-BTH-87            NaN   \n",
       "\n",
       "                                        trial sequence 2  \\\n",
       "0                                                    NaN   \n",
       "1                                                    NaN   \n",
       "2                                                    NaN   \n",
       "3                                                    NaN   \n",
       "4                                                    NaN   \n",
       "...                                                  ...   \n",
       "69966  ATGTCTGAAAAGCAGATGAAGGAAGCTTTTGTCAGTAACCTCAATG...   \n",
       "69967  ATGTGGCCCCAGGACCCATCCCGGAAGGAGGTGCTGAGGTTTGCAG...   \n",
       "69968  ATGTGGCCCCAGGACCCATCCCGGAAGGAGGTGCTGAGGTTTGCAG...   \n",
       "69969  ATGGGCCTCCTGTCGGACCCGGTTCGCCGGCGCGCGCTCGCCCGCC...   \n",
       "69970  ATGGTGGAAAATTCACCGTCGCCATTGCCAGAAAGAGCGATTTATG...   \n",
       "\n",
       "                                         target sequence  \\\n",
       "0                                                    NaN   \n",
       "1                                                    NaN   \n",
       "2                                                    NaN   \n",
       "3                                                    NaN   \n",
       "4                                                    NaN   \n",
       "...                                                  ...   \n",
       "69966  ATGTCTGAAAAGCAGATGAAGGAAGCTTTTGTCAGTAACCTCAATG...   \n",
       "69967  ATGTGGCCCCAGGACCCATCCCGGAAGGAGGTGCTGAGGTTTGCAG...   \n",
       "69968  ATGTGGCCCCAGGACCCATCCCGGAAGGAGGTGCTGAGGTTTGCAG...   \n",
       "69969  ATGGGCCTCCTGTCGGACCCGGTTCGCCGGCGCGCGCTCGCCCGCC...   \n",
       "69970  ATGGTGGAAAATTCACCGTCGCCATTGCCAGAAAGAGCGATTTATG...   \n",
       "\n",
       "                                       target sequence 2  \n",
       "0                                                    NaN  \n",
       "1                                                    NaN  \n",
       "2                                                    NaN  \n",
       "3                                                    NaN  \n",
       "4                                                    NaN  \n",
       "...                                                  ...  \n",
       "69966  MSEKQMKEAFVSNLNGTTVLEITQGLCFPAFCILCRGFLIIFSQYL...  \n",
       "69967  MWPQDPSRKEVLRFAVSCRILTLMLQALFNAIIPDHHAEAFSPPRL...  \n",
       "69968  MWPQDPSRKEVLRFAVSCRILTLMLQALFNAIIPDHHAEAFSPPRL...  \n",
       "69969  MGLLSDPVRRRALARLVLRLNAPLCVLSYVAGIAWFLALVFPPLTQ...  \n",
       "69970  MVENSPSPLPERAIYGFVLFLSSQFGFILYLVWAFIPESWLNSLGL...  \n",
       "\n",
       "[69971 rows x 41 columns]"
      ]
     },
     "execution_count": 14,
     "metadata": {},
     "output_type": "execute_result"
    }
   ],
   "source": [
    "df"
   ]
  },
  {
   "cell_type": "code",
   "execution_count": 21,
   "metadata": {},
   "outputs": [
    {
     "data": {
      "text/plain": [
       "expressed            37201\n",
       "work stopped          3686\n",
       "not expressed         1505\n",
       "expression tested      156\n",
       "Name: trial_status, dtype: int64"
      ]
     },
     "execution_count": 21,
     "metadata": {},
     "output_type": "execute_result"
    }
   ],
   "source": [
    "df['trial_status'].value_counts()"
   ]
  },
  {
   "cell_type": "code",
   "execution_count": 22,
   "metadata": {},
   "outputs": [],
   "source": [
    "# Select columns based on OR condition using pandas\n",
    "# Select only the cases where trail_status == expressed OR trial_status == not expressed\n",
    "df_new = df.loc[(df['trial_status'] == 'expressed') | (df['trial_status'] == 'not expressed')]\n"
   ]
  },
  {
   "cell_type": "code",
   "execution_count": 23,
   "metadata": {},
   "outputs": [
    {
     "data": {
      "text/plain": [
       "expressed        37201\n",
       "not expressed     1505\n",
       "Name: trial_status, dtype: int64"
      ]
     },
     "execution_count": 23,
     "metadata": {},
     "output_type": "execute_result"
    }
   ],
   "source": [
    "df_new['trial_status'].value_counts()"
   ]
  },
  {
   "cell_type": "code",
   "execution_count": 24,
   "metadata": {},
   "outputs": [],
   "source": [
    "# make a new CSV with only thse cases mentioned above\n",
    "df_new.to_csv('Dataset_with_labels.csv', index = False)"
   ]
  },
  {
   "cell_type": "code",
   "execution_count": 29,
   "metadata": {},
   "outputs": [
    {
     "name": "stderr",
     "output_type": "stream",
     "text": [
      "C:\\Users\\kgqr995\\AppData\\Local\\Temp\\ipykernel_11352\\2781801577.py:2: SettingWithCopyWarning: \n",
      "A value is trying to be set on a copy of a slice from a DataFrame\n",
      "\n",
      "See the caveats in the documentation: https://pandas.pydata.org/pandas-docs/stable/user_guide/indexing.html#returning-a-view-versus-a-copy\n"
     ]
    }
   ],
   "source": [
    "dups = (df['trial sequence'] == df['trial sequence 2'])\n",
    "df_new2 = df['trial sequence 2'].iloc[dups]= np.nan"
   ]
  },
  {
   "cell_type": "code",
   "execution_count": 30,
   "metadata": {},
   "outputs": [
    {
     "data": {
      "text/plain": [
       "0        NaN\n",
       "1        NaN\n",
       "2        NaN\n",
       "3        NaN\n",
       "4        NaN\n",
       "        ... \n",
       "42582    NaN\n",
       "42583    NaN\n",
       "42584    NaN\n",
       "42585    NaN\n",
       "42586    NaN\n",
       "Name: trial sequence 2, Length: 42548, dtype: object"
      ]
     },
     "execution_count": 30,
     "metadata": {},
     "output_type": "execute_result"
    }
   ],
   "source": [
    "df['trial sequence 2']"
   ]
  }
 ],
 "metadata": {
  "interpreter": {
   "hash": "ac59ebe37160ed0dfa835113d9b8498d9f09ceb179beaac4002f036b9467c963"
  },
  "kernelspec": {
   "display_name": "Python 3.9.7 64-bit",
   "name": "python3"
  },
  "language_info": {
   "codemirror_mode": {
    "name": "ipython",
    "version": 3
   },
   "file_extension": ".py",
   "mimetype": "text/x-python",
   "name": "python",
   "nbconvert_exporter": "python",
   "pygments_lexer": "ipython3",
   "version": "3.9.7"
  },
  "orig_nbformat": 4
 },
 "nbformat": 4,
 "nbformat_minor": 2
}
